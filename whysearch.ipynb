{
 "metadata": {
  "name": "whysearch"
 },
 "nbformat": 3,
 "nbformat_minor": 0,
 "worksheets": [
  {
   "cells": [
    {
     "cell_type": "code",
     "collapsed": false,
     "input": [
      "from store import db\n",
      "from posts import insertIntoMySql\n",
      "insertIntoMySql('posts.xml')\n",
      "mysql = db.cursor()"
     ],
     "language": "python",
     "metadata": {},
     "outputs": [],
     "prompt_number": 4
    },
    {
     "cell_type": "markdown",
     "metadata": {},
     "source": [
      "# SQL Like (regexs, strcmp, etc)\n",
      "- scans table with some expression\n",
      "- returns exact matches"
     ]
    },
    {
     "cell_type": "markdown",
     "metadata": {},
     "source": [
      "## Search for >darth vader< get 132 results:"
     ]
    },
    {
     "cell_type": "code",
     "collapsed": false,
     "input": [
      "# Search for darth vader... we get 132 results\n",
      "mysql.execute('SELECT * FROM posts WHERE body LIKE \"%darth vader%\"')"
     ],
     "language": "python",
     "metadata": {},
     "outputs": [
      {
       "output_type": "pyout",
       "prompt_number": 54,
       "text": [
        "132L"
       ]
      }
     ],
     "prompt_number": 54
    },
    {
     "cell_type": "code",
     "collapsed": false,
     "input": [
      "mysql.fetchone()"
     ],
     "language": "python",
     "metadata": {},
     "outputs": [
      {
       "output_type": "pyout",
       "prompt_number": 31,
       "text": [
        "(55L,\n",
        " '<p>Obi-wan left Anakin for dead, and one movie later (in a New Hope) he was saying Anakin had been killed by Darth Vader.</p>\\n\\n<p>What exactly did Obiwan know about Anakin and Darth Vader before a New Hope started?</p>\\n')"
       ]
      }
     ],
     "prompt_number": 31
    },
    {
     "cell_type": "code",
     "collapsed": false,
     "input": [
      "mysql.fetchone()"
     ],
     "language": "python",
     "metadata": {},
     "outputs": [
      {
       "output_type": "pyout",
       "prompt_number": 32,
       "text": [
        "(62L,\n",
        " '<p>He knew that Anakin was consumed by the Dark Side of the Force.  I think he was speaking metaphorically.  Certainly he knew that Darth Vader was not literally dead, but Anakin Skywalker was.</p>\\n')"
       ]
      }
     ],
     "prompt_number": 32
    },
    {
     "cell_type": "markdown",
     "metadata": {},
     "source": [
      "## Search for >vader, darth< get one result..."
     ]
    },
    {
     "cell_type": "code",
     "collapsed": false,
     "input": [
      "mysql.execute('SELECT * FROM posts WHERE body LIKE \"%vader, darth%\"')"
     ],
     "language": "python",
     "metadata": {},
     "outputs": [
      {
       "output_type": "pyout",
       "prompt_number": 59,
       "text": [
        "1L"
       ]
      }
     ],
     "prompt_number": 59
    },
    {
     "cell_type": "code",
     "collapsed": false,
     "input": [
      "mysql.fetchone()"
     ],
     "language": "python",
     "metadata": {},
     "outputs": [
      {
       "output_type": "pyout",
       "prompt_number": 60,
       "text": [
        "(9899L,\n",
        " '<p>I don\\'t know the exact significance of the word \"Darth\" in the sith world, but I think it was a word of honor for powerful Siths. That\\'s why Anakin was given this word in his new name.<br>\\nAll powerful siths in canon had this word in their names: Darth Plagueis, Darth Bane, Darth Sidious, Darth Vader, Darth Maul etc.. As such name similarity can\\'t be names given by their parents, I can assume they were given such words in names as a honor.<br>\\nNow, look at Count Dooku.. he was a powerful sith too. So, why wasn\\'t he given this word of honor?</p>\\n')"
       ]
      }
     ],
     "prompt_number": 60
    },
    {
     "cell_type": "markdown",
     "metadata": {},
     "source": [
      "## Takes about 341 ms to scan 20K docs...."
     ]
    },
    {
     "cell_type": "code",
     "collapsed": false,
     "input": [
      "%timeit mysql.execute('SELECT * FROM posts WHERE body LIKE \"%vader, darth%\"')"
     ],
     "language": "python",
     "metadata": {},
     "outputs": [
      {
       "output_type": "stream",
       "stream": "stdout",
       "text": [
        "1 loops, best of 3: 341 ms per loop\n"
       ]
      }
     ],
     "prompt_number": 56
    },
    {
     "cell_type": "code",
     "collapsed": false,
     "input": [
      "mysql.execute('SELECT * FROM posts_ft WHERE MATCH(body) AGAINST(\"Darth Vader\")')"
     ],
     "language": "python",
     "metadata": {},
     "outputs": [
      {
       "output_type": "pyout",
       "prompt_number": 33,
       "text": [
        "442L"
       ]
      }
     ],
     "prompt_number": 33
    },
    {
     "cell_type": "code",
     "collapsed": false,
     "input": [
      "mysql.fetchone()"
     ],
     "language": "python",
     "metadata": {},
     "outputs": [
      {
       "output_type": "pyout",
       "prompt_number": 34,
       "text": [
        "(14119L,\n",
        " '<p>During <em>The Empire Strikes Back</em>, Palpatine refers to the father of Luke as Anakin.</p>\\n\\n<blockquote>\\n  <p>Darth Vader: What is thy bidding, my master? </p>\\n  \\n  <p>Emperor: There is a great disturbance in the Force. </p>\\n  \\n  <p>Darth Vader: I have felt it. </p>\\n  \\n  <p>Emperor: We have a new enemy, the young Rebel who destroyed the Death Star. I have no doubt this boy is the offspring of Anakin Skywalker. </p>\\n  \\n  <p>Darth Vader: How is that possible? </p>\\n  \\n  <p>Emperor: Search your feelings, Lord Vader. You will know it to be true. He could destroy us. </p>\\n  \\n  <p>Darth Vader: He\\'s just a boy. Obi-Wan can no longer help him. </p>\\n  \\n  <p>Emperor: The Force is strong with him. The son of Skywalker must not become a Jedi. </p>\\n  \\n  <p>Darth Vader: If he could be turned, he will become a powerful ally. </p>\\n  \\n  <p>Emperor: Yes. He would be a great asset. Can it be done? </p>\\n  \\n  <p>Darth Vader: He will join us or die, my master. </p>\\n</blockquote>\\n\\n<p>This seems a little odd, considering that:</p>\\n\\n<blockquote class=\"spoiler\">\\n  <p>Vader <em>is</em> Anakin. </p>\\n</blockquote>\\n\\n<p>I realise that to have said that too early in the film would have ruined the big reveal. Is there some in-universe reason for Palpatine to refer to Luke\\'s father as Anakin? \\nSome kind of psychological game that Palpatine is playing with Vader, perhaps?</p>\\n')"
       ]
      }
     ],
     "prompt_number": 34
    },
    {
     "cell_type": "markdown",
     "metadata": {},
     "source": [
      "## SQL Like is...\n",
      "* Slow\n",
      "* Cant meet up to user expectations (vader, darth should match darth vader docs!)"
     ]
    },
    {
     "cell_type": "markdown",
     "metadata": {},
     "source": [
      "Your Databases Full Text Search...\n",
      "=====================================\n",
      "* Creates an index optimized for full-text searching\n",
      "\n",
      "      CREATE TABLE posts_ft\n",
      "                (id: INT, body: TEXT,\n",
      "                 FULLTEXT(body))\n",
      "\n",
      "\n",
      "* Ranks results based on relevance"
     ]
    },
    {
     "cell_type": "code",
     "collapsed": false,
     "input": [
      "mysql.execute('SELECT * FROM posts_ft WHERE MATCH(body) AGAINST(\"Vader\")')"
     ],
     "language": "python",
     "metadata": {},
     "outputs": [
      {
       "output_type": "pyout",
       "prompt_number": 67,
       "text": [
        "335L"
       ]
      }
     ],
     "prompt_number": 67
    },
    {
     "cell_type": "code",
     "collapsed": false,
     "input": [
      "mysql.fetchone()"
     ],
     "language": "python",
     "metadata": {},
     "outputs": [
      {
       "output_type": "pyout",
       "prompt_number": 68,
       "text": [
        "(12677L,\n",
        " \"<p>At the end of Return of the Jedi when Luke takes Vader's helmet off Vader has a big scar across his face, and if I remember correctly (Please correct me if I am wrong) Vader never got that scar when battling obi-wan at the end of episode III so what battle did he get this scar in someone must have been a challenge for Vader sometime or other? </p>\\n\")"
       ]
      }
     ],
     "prompt_number": 68
    },
    {
     "cell_type": "markdown",
     "metadata": {},
     "source": [
      "## Only two results when we pluralize :("
     ]
    },
    {
     "cell_type": "code",
     "collapsed": false,
     "input": [
      "mysql.execute('SELECT * FROM posts_ft WHERE MATCH(body) AGAINST(\"Vaders\")')"
     ],
     "language": "python",
     "metadata": {},
     "outputs": [
      {
       "output_type": "pyout",
       "prompt_number": 71,
       "text": [
        "2L"
       ]
      }
     ],
     "prompt_number": 71
    },
    {
     "cell_type": "code",
     "collapsed": false,
     "input": [
      "mysql.fetchone()"
     ],
     "language": "python",
     "metadata": {},
     "outputs": [
      {
       "output_type": "pyout",
       "prompt_number": 72,
       "text": [
        "(7131L,\n",
        " '<p>Its said Darth Vaders body armour suit thing is a direct upgrade of how General Grievous was created. But I can\\'t understand how this is an \"upgrade\". It was heavier, immobile (compared to Grievous) and wasn\\'t as agile and as far as we knew from the movies it didn\\'t have cool gadget things like grappling hooks etc.</p>\\n\\n<p>so why was it considered an upgrade? surely the Greivous armour was a much better killing machine.</p>\\n')"
       ]
      }
     ],
     "prompt_number": 72
    },
    {
     "cell_type": "markdown",
     "metadata": {},
     "source": [
      "## Much faster though!"
     ]
    },
    {
     "cell_type": "code",
     "collapsed": false,
     "input": [
      "%timeit mysql.execute('SELECT * FROM posts_ft WHERE MATCH(body) AGAINST(\"Emperor\")')"
     ],
     "language": "python",
     "metadata": {},
     "outputs": [
      {
       "output_type": "stream",
       "stream": "stdout",
       "text": [
        "1000 loops, best of 3: 1.3 ms per loop\n"
       ]
      }
     ],
     "prompt_number": 62
    },
    {
     "cell_type": "code",
     "collapsed": false,
     "input": [
      "%timeit mysql.execute('SELECT * FROM posts_ft WHERE MATCH(body) AGAINST(\"Emperors\")')"
     ],
     "language": "python",
     "metadata": {},
     "outputs": [
      {
       "output_type": "stream",
       "stream": "stdout",
       "text": [
        "1000 loops, best of 3: 306 us per loop\n"
       ]
      }
     ],
     "prompt_number": 63
    },
    {
     "cell_type": "markdown",
     "metadata": {},
     "source": [
      "## MySQL's Full Text Search\n",
      "* fast! -- uses a better data structure\n",
      "* sorts on MySQL's notion of relevancy\n",
      "* We hit a feature wall pretty fast"
     ]
    },
    {
     "cell_type": "markdown",
     "metadata": {},
     "source": [
      "## Your Databases Full Text Search:\n",
      "\n",
      "### Advantages\n",
      "* Better integrated with your database\n",
      "* One less thing to take care of in your data center\n",
      "* Probably reasonably performant\n",
      "\n",
      "### Disadvantages\n",
      "* Limitted features (Languages, spellchecking, results highlighting, customizability in ranking algorithm, fuzzy matching)\n",
      "* As fast as a dedicated search solution?"
     ]
    },
    {
     "cell_type": "code",
     "collapsed": false,
     "input": [
      "##"
     ],
     "language": "python",
     "metadata": {},
     "outputs": []
    }
   ],
   "metadata": {}
  }
 ]
}